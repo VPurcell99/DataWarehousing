{
 "cells": [
  {
   "cell_type": "code",
   "execution_count": 28,
   "source": [
    "#what are we running?\r\n",
    "import sys\r\n",
    "print(sys.version)"
   ],
   "outputs": [
    {
     "output_type": "stream",
     "name": "stdout",
     "text": [
      "3.8.7 (tags/v3.8.7:6503f05, Dec 21 2020, 17:59:51) [MSC v.1928 64 bit (AMD64)]\n"
     ]
    }
   ],
   "metadata": {}
  },
  {
   "cell_type": "code",
   "execution_count": 30,
   "source": [
    "import html\r\n",
    "import unidecode\r\n",
    "\r\n",
    "def decode2(s):\r\n",
    "  t = unidecode.unidecode(s)\r\n",
    "  if (t == '[?]'): \r\n",
    "    return '_'\r\n",
    "  else:\r\n",
    "    return(t)\r\n",
    "\r\n",
    "def decodeStr(s):\r\n",
    "    t =\"\"\r\n",
    "    for x in s:\r\n",
    "      t = t+decode2(x)\r\n",
    "    return t\r\n",
    "\r\n",
    "\r\n",
    "def clean_work(s):\r\n",
    "    s = html.unescape(s)\r\n",
    "    s = decodeStr(s)  #convert foreign language to bad-english\r\n",
    "    skips = re.compile(r\"[^\\x00-\\x7F]\")  #get rid of anything non-ascii\r\n",
    "    s = re.sub(skips,\" \",s)\r\n",
    "    s = re.sub('  ',' ',s)\r\n",
    "    s = s.replace('\\t',' ')\r\n",
    "    s = s.replace('\\n',' ')\r\n",
    "    s = s.replace(\"'\",\" \")  #get rid of single quotes\r\n",
    "    s = s.replace('\"',' ')  #get rid of double quotes\r\n",
    "    s = s.replace('  ',' ') #get rid of extra spaces\r\n",
    "    return(s.strip())\r\n",
    "\r\n",
    "def clean17(s):\r\n",
    "    s=clean_work(s)\r\n",
    "    t=clean_work(s)\r\n",
    "    while(s!=t):\r\n",
    "        s=t\r\n",
    "        t=clean_work(s)\r\n",
    "    return(s)\r\n",
    "\r\n",
    "def left(s, amount):\r\n",
    "    return s[:amount]\r\n",
    "\r\n",
    "def right(s, amount):\r\n",
    "    return s[-amount:]\r\n",
    "\r\n",
    "def isRetweet(tweet):\r\n",
    "    return (left(tweet,3)=='rt ')"
   ],
   "outputs": [],
   "metadata": {}
  },
  {
   "cell_type": "markdown",
   "source": [
    "## Vince Purcell - Data Warehousing - Fall21 - HW1\r\n",
    "All the functions above are from Professor Brietzmans SampleDataPipeline.ipynb"
   ],
   "metadata": {}
  },
  {
   "cell_type": "markdown",
   "source": [
    "## Homework\r\n",
    "I've given you all of the tools you need. Finish the pipeline as follows:\r\n",
    "<br>\r\n",
    "1. Rebuild the table after standardizing the date-time in YYYY-MM-DD HH:MM format.\r\n",
    "<br>\r\n",
    "2. Pick two time periods at least 30 minutes apart and write a function that takes the 2 time periods (low and high) and returns all tweets in the table between those time periods.  Your function should contain SQL code, so don't do outside of the database.\r\n",
    "<br>\r\n",
    "3. Collect all the hashtags (e.g. #metoo) within any 1 hour period and display a frequency distribution similar to what was done with handles above.  If you're not using the function from 2. then you are doing something wrong.\r\n",
    "<br>\r\n",
    "4. Repeat step 3.  First time do it with SQL and the second time do it with a Python dictionary or a Java hashmap.  (Google it if necessary)                  \r\n",
    "<br>\r\n",
    "5. Use https://www.tutorialspoint.com/matplotlib/matplotlib_bar_plot.htm to create a bar chart for 4. above using matplotlib. (or do something fancier if you prefer).\r\n",
    "<br>\r\n",
    "\r\n",
    "## Rules of the game.\r\n",
    "I don't care if you work with someone else.  You should cite each other and each turn in your own submission.\r\n",
    "<br>\r\n",
    "I don't care if you use SQLite, mySQL, Oracle, Access, whatever.  Use anything you want, as long as you call it from a language.\r\n",
    "<br>\r\n",
    "I don't care if you use Python, Java, Haskell, whatever.  If you want to be a data engineer one day though, you should start using Python.\r\n",
    "<br>\r\n",
    "If you use Jupyter notebook then save as an html file and hand in both HTMl file and .ipynb file.  If you use an IDE or some other language send me source code as well as output in a text file.\r\n",
    "<br>\r\n",
    "Have fun; don't stress out.  This is pretty easy actually.\r\n",
    "\r\n",
    "            \r\n"
   ],
   "metadata": {}
  },
  {
   "cell_type": "code",
   "execution_count": 34,
   "source": [
    "import sqlite3 as lite\r\n",
    "month_dict = {\r\n",
    "    'Jan' : '01',\r\n",
    "    'Feb' : '02',\r\n",
    "    'Mar' : '03',\r\n",
    "    'Apr' : '04',\r\n",
    "    'May' : '05',\r\n",
    "    'Jun' : '06',\r\n",
    "    'Jul' : '07',\r\n",
    "    'Aug' : '08',\r\n",
    "    'Sep' : '09',\r\n",
    "    'Oct' : '10',\r\n",
    "    'Nov' : '11',\r\n",
    "    'Dec' : '12'\r\n",
    "}"
   ],
   "outputs": [],
   "metadata": {}
  },
  {
   "cell_type": "code",
   "execution_count": null,
   "source": [
    "def standardDate(date_str):\r\n",
    "    date_split = date_str.split()\r\n",
    "    date = date_split[5] + \"-\" + month_dict[date_split[1]] + \"-\" + date_split[2]\r\n",
    "    time = date_split[3].split(\":\")[0] + \":\" + date_split[3].split(\":\")[1]\r\n",
    "    return(date + \" \" + time)\r\n",
    "\r\n",
    "input_date = \r\n",
    "print(\"This is a test\")"
   ],
   "outputs": [],
   "metadata": {}
  },
  {
   "cell_type": "markdown",
   "source": [
    "### Homework Part 1 ###"
   ],
   "metadata": {}
  },
  {
   "cell_type": "code",
   "execution_count": 35,
   "source": [
    "con = lite.connect(r'tweets.db')  #we'll create a physical database because we're in DW, but for \r\n",
    "                                  #50,000 tweets we could create this in memory. Google it!\r\n",
    "cur = con.cursor()\r\n",
    "#create a tweets table\r\n",
    "cur.execute('drop table if exists tweets')\r\n",
    "cur.execute('create Table tweets(date1 TEXT, tweetID TEXT, Tweet TEXT, handle TEXT, isRetweet INT)')\r\n",
    "\r\n",
    "with open(r'randomTweets.txt') as csv_file: \r\n",
    "    csv_reader = csv.reader(csv_file, delimiter='\\t')\r\n",
    "    for i,row in enumerate(csv_reader):\r\n",
    "            date = standardDate(row[0])\r\n",
    "            tweetID = row[1]\r\n",
    "            tweet = clean17(row[2]).lower()\r\n",
    "            handle = row[4]\r\n",
    "            if (isRetweet(tweet)):\r\n",
    "                isRT = 1\r\n",
    "            else:\r\n",
    "                isRT = 0\r\n",
    "            if ((i % 20000)==0):\r\n",
    "                con.commit()\r\n",
    "                print('committing row '+str(i))\r\n",
    "            try:\r\n",
    "              cur.execute(\"INSERT INTO tweets VALUES (?,?,?,?,?)\",\r\n",
    "                          (date,tweetID,tweet,handle,isRT))\r\n",
    "            except lite.OperationalError as err:\r\n",
    "                 print(\"insert error: %s\", err)\r\n",
    "                 break\r\n",
    " \r\n",
    "\r\n",
    "print(i,' rows in file')\r\n",
    "con.commit()\r\n",
    "con.close()"
   ],
   "outputs": [
    {
     "output_type": "stream",
     "name": "stdout",
     "text": [
      "committing row 0\n",
      "committing row 20000\n",
      "committing row 40000\n",
      "50025  rows in file\n"
     ]
    }
   ],
   "metadata": {}
  },
  {
   "cell_type": "markdown",
   "source": [
    "### Homework Part 2 ###\r\n",
    "##### Wrote functions for datetime and time #####"
   ],
   "metadata": {}
  },
  {
   "cell_type": "code",
   "execution_count": 36,
   "source": [
    "# Takes connection and low/high date time range\r\n",
    "# (YYYY-MM-DD HH:MM)\r\n",
    "def selectTweetsFromDateTimeRange(con, low, high):\r\n",
    "    cur = con.cursor()\r\n",
    "    cur.execute(\"SELECT * FROM tweets WHERE STRFTIME('%Y-%m-%d %H:%M',date1) >= ? AND STRFTIME('%Y-%m-%d %H:%M',date1) <= ?\", (low,high))\r\n",
    "    return cur\r\n",
    "\r\n",
    "# Takes time in following format: HH:MM\r\n",
    "def selectTweetsFromTimeRange(con, low, high):\r\n",
    "    cur = con.cursor()\r\n",
    "    cur.execute(\"SELECT * FROM tweets WHERE STRFTIME('%H:%M',date1) >= ? AND STRFTIME('%H:%M',date1) <= ?\", (low,high))\r\n",
    "    return cur"
   ],
   "outputs": [],
   "metadata": {}
  },
  {
   "cell_type": "markdown",
   "source": [
    "### Homework Part 3 ###\r\n",
    "##### Create Hashtag Table #####"
   ],
   "metadata": {}
  },
  {
   "cell_type": "code",
   "execution_count": 37,
   "source": [
    "con = lite.connect(r'tweets.db')\r\n",
    "\r\n",
    "time_cur = selectTweetsFromTimeRange(con, \"05:00\", \"06:00\")\r\n",
    "rows = time_cur.fetchall()\r\n",
    "\r\n",
    "cur = con.cursor()\r\n",
    "\r\n",
    "cur.execute('drop table if exists hashtags')\r\n",
    "cur.execute('create Table hashtags(tweetID TEXT, hashtag TEXT)')\r\n",
    "\r\n",
    "count = 1\r\n",
    "for row in rows:\r\n",
    "    tweet = row[2]\r\n",
    "    tweetID = row[1]\r\n",
    "    for word in tweet.split():\r\n",
    "        if word[0] == \"#\" and len(word)>1:\r\n",
    "            hashtag = word\r\n",
    "            if ((count % 20000)==0):\r\n",
    "                con.commit()\r\n",
    "                print('committing row '+str(count))\r\n",
    "            try:\r\n",
    "                cur.execute(\"INSERT INTO hashtags VALUES (?,?)\",\r\n",
    "                            (tweetID, hashtag))\r\n",
    "                count = count + 1\r\n",
    "            except lite.OperationalError as err:\r\n",
    "                    print(\"insert error: %s\", err)\r\n",
    "                    break\r\n",
    "\r\n",
    "con.commit()\r\n",
    "print('committing row '+str(count))\r\n",
    "con.close()"
   ],
   "outputs": [
    {
     "output_type": "stream",
     "name": "stdout",
     "text": [
      "committing row 935\n"
     ]
    }
   ],
   "metadata": {}
  },
  {
   "cell_type": "markdown",
   "source": [
    "### Homework Part 3 ###\r\n",
    "##### Count hashtags #####"
   ],
   "metadata": {}
  },
  {
   "cell_type": "code",
   "execution_count": 38,
   "source": [
    "con = lite.connect(r'tweets.db')\r\n",
    "cur = con.cursor()\r\n",
    "s = 'select count(hashtag) as cnt1, hashtag from hashtags group by hashtag order by cnt1 DESC limit 20'\r\n",
    "cur.execute(s)\r\n",
    "rows = cur.fetchall()\r\n",
    "for row in rows:\r\n",
    "    print(row)\r\n",
    "con.close()"
   ],
   "outputs": [
    {
     "output_type": "stream",
     "name": "stdout",
     "text": [
      "(37, '#mtvhottest')\n",
      "(24, '#1')\n",
      "(15, '#wayv')\n",
      "(13, '#dilbechara')\n",
      "(10, '#folklore')\n",
      "(10, '#blacklivesmatter')\n",
      "(10, '#arashisummer')\n",
      "(9, '#__2')\n",
      "(8, '#inthesummer')\n",
      "(8, '#covid19')\n",
      "(8, '#blackpink')\n",
      "(7, '#arashi')\n",
      "(7, '#allstars5')\n",
      "(7, '#6yearsofvikramadithyan')\n",
      "(6, '#3')\n",
      "(6, '#2')\n",
      "(5, '#truehumanitywarriors')\n",
      "(5, '#portland')\n",
      "(5, '#bts')\n",
      "(5, '#americasgreatestmistake')\n"
     ]
    }
   ],
   "metadata": {}
  },
  {
   "cell_type": "markdown",
   "source": [
    "### Homework part 4 ###"
   ],
   "metadata": {}
  },
  {
   "cell_type": "code",
   "execution_count": 39,
   "source": [
    "con = lite.connect(r'tweets.db')\r\n",
    "\r\n",
    "time_cur = selectTweetsFromTimeRange(con, \"05:00\", \"06:00\")\r\n",
    "\r\n",
    "rows = time_cur.fetchall()\r\n",
    "\r\n",
    "hashtags = {}\r\n",
    "\r\n",
    "for row in rows:\r\n",
    "    tweet = row[2]\r\n",
    "    words = tweet.split()\r\n",
    "    for word in words:\r\n",
    "        if word[0] == \"#\" and len(word)>1:\r\n",
    "            if word in hashtags:\r\n",
    "                hashtags[word] = hashtags[word] + 1\r\n",
    "            else:\r\n",
    "                hashtags[word] = 1\r\n",
    "\r\n",
    "tuples = sorted(hashtags.items(), reverse=True, key=lambda x: x[1])\r\n",
    "\r\n",
    "top_25_hashtags = {}\r\n",
    "count = 0\r\n",
    "for hashtag in tuples :\r\n",
    "    print(hashtag[0] , \" : \" , hashtag[1] )\r\n",
    "    top_25_hashtags[hashtag[0]] = hashtag[1]\r\n",
    "    if count == 25:\r\n",
    "        break\r\n",
    "    count = count + 1 \r\n",
    "\r\n",
    "con.close()"
   ],
   "outputs": [
    {
     "output_type": "stream",
     "name": "stdout",
     "text": [
      "#mtvhottest  :  37\n",
      "#1  :  24\n",
      "#wayv  :  15\n",
      "#dilbechara  :  13\n",
      "#arashisummer  :  10\n",
      "#blacklivesmatter  :  10\n",
      "#folklore  :  10\n",
      "#__2  :  9\n",
      "#inthesummer  :  8\n",
      "#covid19  :  8\n",
      "#blackpink  :  8\n",
      "#arashi  :  7\n",
      "#6yearsofvikramadithyan  :  7\n",
      "#allstars5  :  7\n",
      "#3  :  6\n",
      "#2  :  6\n",
      "#truehumanitywarriors  :  5\n",
      "#4  :  5\n",
      "#bts  :  5\n",
      "#portland  :  5\n",
      "#americasgreatestmistake  :  5\n",
      "#ripbernelltremmell  :  4\n",
      "#okasia  :  4\n",
      "#5  :  4\n",
      "#zepeto  :  4\n",
      "#blackpinkhouse  :  4\n"
     ]
    }
   ],
   "metadata": {}
  },
  {
   "cell_type": "markdown",
   "source": [
    "### Homework Part 5 ###"
   ],
   "metadata": {}
  },
  {
   "cell_type": "code",
   "execution_count": 40,
   "source": [
    "import matplotlib.pyplot as plt\r\n",
    "\r\n",
    "# Modified Code from\r\n",
    "# https://towardsdatascience.com/how-to-make-bar-and-hbar-charts-with-labels-using-matplotlib-b701ce70ba9c\r\n",
    "\r\n",
    "fig, ax = plt.subplots(figsize=(4, 10))\r\n",
    "bars = ax.barh(*zip(*top_25_hashtags.items().__reversed__()), 0.7)\r\n",
    "for bar in bars:\r\n",
    "  width = bar.get_width()\r\n",
    "  label_y_pos = bar.get_y() + bar.get_height() / 2\r\n",
    "  ax.text(width, label_y_pos, s=f'{width}', va='center')\r\n",
    "for tick in ax.yaxis.get_major_ticks():\r\n",
    "  tick.label.set_fontsize(14)\r\n",
    "for bar in bars[::2]:\r\n",
    "  bar.set_color('r')\r\n",
    "plt.title('Top 25 used Hashtags')\r\n",
    "plt.xlabel('Frequency')\r\n",
    "plt.ylabel('Hashtag')\r\n",
    "plt.xlim([0,50])\r\n",
    "plt.show()"
   ],
   "outputs": [
    {
     "output_type": "display_data",
     "data": {
      "image/png": "[encoded data removed]",
      "text/plain": [
       "<Figure size 288x720 with 1 Axes>"
      ]
     },
     "metadata": {
      "needs_background": "light"
     }
    }
   ],
   "metadata": {}
  }
 ],
 "metadata": {
  "kernelspec": {
   "name": "python3",
   "display_name": "Python 3.8.7 64-bit"
  },
  "language_info": {
   "codemirror_mode": {
    "name": "ipython",
    "version": 3
   },
   "file_extension": ".py",
   "mimetype": "text/x-python",
   "name": "python",
   "nbconvert_exporter": "python",
   "pygments_lexer": "ipython3",
   "version": "3.8.7"
  },
  "interpreter": {
   "hash": "8701f80c374d04af0e91f6be4c5e64730e695461425753d44c3710c84263da43"
  }
 },
 "nbformat": 4,
 "nbformat_minor": 4
}